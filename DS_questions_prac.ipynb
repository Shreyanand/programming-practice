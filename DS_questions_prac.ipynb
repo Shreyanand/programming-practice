{
  "nbformat": 4,
  "nbformat_minor": 0,
  "metadata": {
    "colab": {
      "name": "DS_questions_prac.ipynb",
      "version": "0.3.2",
      "provenance": [],
      "include_colab_link": true
    },
    "kernelspec": {
      "name": "python3",
      "display_name": "Python 3"
    }
  },
  "cells": [
    {
      "cell_type": "markdown",
      "metadata": {
        "id": "view-in-github",
        "colab_type": "text"
      },
      "source": [
        "<a href=\"https://colab.research.google.com/github/Shreyanand/programming-practice/blob/master/DS_questions_prac.ipynb\" target=\"_parent\"><img src=\"https://colab.research.google.com/assets/colab-badge.svg\" alt=\"Open In Colab\"/></a>"
      ]
    },
    {
      "cell_type": "markdown",
      "metadata": {
        "id": "XCP7I3P-WghR",
        "colab_type": "text"
      },
      "source": [
        "# Pandas"
      ]
    },
    {
      "cell_type": "markdown",
      "metadata": {
        "id": "IsSe67yikl_v",
        "colab_type": "text"
      },
      "source": [
        "### Multiple columns criteria for selecting\n",
        "\n",
        "* USE df.loc[(df[..]) & (df[..,])]"
      ]
    },
    {
      "cell_type": "code",
      "metadata": {
        "id": "oCchuuuikeAx",
        "colab_type": "code",
        "colab": {}
      },
      "source": [
        "import pandas as pd\n",
        "\n",
        "raw_data = {'name': ['Willard Morris', 'Al Jennings', 'Omar Mullins', 'Spencer McDaniel'],\n",
        "                'age': [20, 19, 22, 21],\n",
        "                'favorite_color': ['blue', 'blue', 'yellow', \"green\"],\n",
        "                'grade': [88, 92, 95, 70]}\n",
        "\n",
        "\n",
        "\n",
        "df = pd.DataFrame(raw_data)\n",
        "df.head()\n",
        "df.loc[(df['grade'] > 90) & (df['favorite_color'].isin(['blue', 'yellow']))]"
      ],
      "execution_count": 0,
      "outputs": []
    },
    {
      "cell_type": "markdown",
      "metadata": {
        "id": "inBv3RrVbksb",
        "colab_type": "text"
      },
      "source": [
        "### Using value_count and groupby"
      ]
    },
    {
      "cell_type": "code",
      "metadata": {
        "id": "Y9Fz5DwQaw8c",
        "colab_type": "code",
        "colab": {}
      },
      "source": [
        "url = \"https://raw.githubusercontent.com/justmarkham/DAT8/master/data/chipotle.tsv\"\n",
        "chipo = pd.read_csv(url, sep='\\t')\n",
        "\n",
        "# For information regarding df\n",
        "chipo.info()\n",
        "\n",
        "# Value count for series data\n",
        "chipo['order_id'].value_counts()\n",
        "\n",
        "# Value count to dataframe\n",
        "chipo['order_id'].value_counts().to_frame('counts').reset_index(level=0).rename(columns={'index':'id'})\n",
        "\n",
        "# Average revenue per order\n",
        "chipo['revenue'] = chipo['item_price'] * chipo['quantity']\n",
        "chipo[['order_id', 'revenue']].groupby('order_id').sum().mean()"
      ],
      "execution_count": 0,
      "outputs": []
    },
    {
      "cell_type": "code",
      "metadata": {
        "id": "G7gs26MK7Lwm",
        "colab_type": "code",
        "outputId": "96595c6e-2c66-4497-d55d-4bbda831b1cf",
        "colab": {
          "base_uri": "https://localhost:8080/",
          "height": 34
        }
      },
      "source": [
        "chipo[['order_id', 'revenue', 'item_name']].groupby(['order_id', 'item_name']).count().reset_index() #group by gives a multiindex, flatten it by reset_index"
      ],
      "execution_count": 0,
      "outputs": [
        {
          "output_type": "execute_result",
          "data": {
            "text/plain": [
              "Index(['order_id', 'item_name', 'revenue'], dtype='object')"
            ]
          },
          "metadata": {
            "tags": []
          },
          "execution_count": 33
        }
      ]
    },
    {
      "cell_type": "markdown",
      "metadata": {
        "id": "y_UE15RgoQsP",
        "colab_type": "text"
      },
      "source": [
        "### Using str for columns"
      ]
    },
    {
      "cell_type": "code",
      "metadata": {
        "id": "26rBi77nbI7q",
        "colab_type": "code",
        "colab": {}
      },
      "source": [
        "#chipo[chipo.item_name.str.startswith('C')]\n",
        "chipo[chipo.item_name.str[0] =='C']"
      ],
      "execution_count": 0,
      "outputs": []
    },
    {
      "cell_type": "markdown",
      "metadata": {
        "id": "kNEIC6x8oNG7",
        "colab_type": "text"
      },
      "source": [
        "### Using iloc and isin"
      ]
    },
    {
      "cell_type": "code",
      "metadata": {
        "id": "PB-JYYgCqGoW",
        "colab_type": "code",
        "colab": {}
      },
      "source": [
        "chipo.iloc[:3, :3]"
      ],
      "execution_count": 0,
      "outputs": []
    },
    {
      "cell_type": "code",
      "metadata": {
        "id": "9GV9EZKKqLre",
        "colab_type": "code",
        "colab": {}
      },
      "source": [
        "chipo.loc[chipo.item_name.isin(['Chicken Bowl'])]"
      ],
      "execution_count": 0,
      "outputs": []
    },
    {
      "cell_type": "markdown",
      "metadata": {
        "id": "nbj9d1204mQH",
        "colab_type": "text"
      },
      "source": [
        "  ### For each occupation present the percentage of women and men"
      ]
    },
    {
      "cell_type": "code",
      "metadata": {
        "id": "lbdd-LGjqTyW",
        "colab_type": "code",
        "colab": {}
      },
      "source": [
        "users = pd.read_table('https://raw.githubusercontent.com/justmarkham/DAT8/master/data/u.user', \n",
        "                      sep='|', index_col='user_id')\n",
        "\n",
        "import numpy as np\n",
        "g = users.groupby('occupation')\n",
        "octop = []\n",
        "for i,j in g:\n",
        "    male = 0\n",
        "    female = 0\n",
        "    for k in j['gender']:\n",
        "        if k == \"M\":\n",
        "            male += 1\n",
        "        else:\n",
        "            female += 1\n",
        "    malep = round(male*100 / (male + female), 2)\n",
        "    femalep = round(female*100 / (male + female), 2)\n",
        "    octop.append([i, malep, femalep])\n",
        "    \n",
        "pd.DataFrame(data=np.asarray(octop), columns=['Occupation', 'Male%', 'Female%'])"
      ],
      "execution_count": 0,
      "outputs": []
    },
    {
      "cell_type": "code",
      "metadata": {
        "id": "IcOk3amy4p-E",
        "colab_type": "code",
        "colab": {}
      },
      "source": [
        "gender_ocup = users.groupby(['occupation', 'gender']).agg({'gender': 'count'})\n",
        "occup_count = users.groupby(['occupation']).agg('count')\n",
        "occup_gender = gender_ocup / occup_count * 100\n",
        "occup_gender.loc[: , 'gender']"
      ],
      "execution_count": 0,
      "outputs": []
    },
    {
      "cell_type": "markdown",
      "metadata": {
        "id": "bK5HX8-95eQB",
        "colab_type": "text"
      },
      "source": [
        "### Using Describe\n",
        "- include all for all columns\n",
        "- can use for groupby element"
      ]
    },
    {
      "cell_type": "markdown",
      "metadata": {
        "id": "w3Ljk03XIirU",
        "colab_type": "text"
      },
      "source": [
        "### Merging"
      ]
    },
    {
      "cell_type": "code",
      "metadata": {
        "id": "hKRYsAvLIhla",
        "colab_type": "code",
        "colab": {}
      },
      "source": [
        "# pd.concat([df1, df2])\n",
        "# df1.append(df2)\n",
        "\n",
        "# Along columns \n",
        "pd.concat([df1, df2], axis=1)\n",
        "\n",
        "#With on condition\n",
        "pd.merge(df1, df2, on='id', how='inner')\n"
      ],
      "execution_count": 0,
      "outputs": []
    },
    {
      "cell_type": "markdown",
      "metadata": {
        "id": "ECmc6WJm_nkN",
        "colab_type": "text"
      },
      "source": [
        "### Str options"
      ]
    },
    {
      "cell_type": "code",
      "metadata": {
        "id": "2cnb1Vw7_nCH",
        "colab_type": "code",
        "colab": {}
      },
      "source": [
        "import pandas as pd\n",
        "url = \"https://raw.githubusercontent.com/realpython/python-data-cleaning/master/Datasets/BL-Flickr-Images-Book.csv\"\n",
        "sdf = pd.read_csv(url)"
      ],
      "execution_count": 0,
      "outputs": []
    },
    {
      "cell_type": "code",
      "metadata": {
        "id": "s_yWD_9RBSAN",
        "colab_type": "code",
        "outputId": "17ec137d-92c0-42be-9604-bf24b58c4bff",
        "colab": {
          "base_uri": "https://localhost:8080/",
          "height": 51
        }
      },
      "source": [
        "ppub = sdf['Place of Publication']\n",
        "cond = ppub.str.contains('london')\n",
        "np.where(cond, 'London', ppub.str.replace('-', '')) # Where function takes in (condition, then, else) or just condition\n",
        "# str.replace\n",
        "# str.split\n",
        "# str.contains\n",
        "# str.cat"
      ],
      "execution_count": 0,
      "outputs": [
        {
          "output_type": "execute_result",
          "data": {
            "text/plain": [
              "array(['London', 'London; Virtue & Yorston', 'London', ..., 'London',\n",
              "       'Newcastle upon Tyne', 'London'], dtype=object)"
            ]
          },
          "metadata": {
            "tags": []
          },
          "execution_count": 56
        }
      ]
    },
    {
      "cell_type": "code",
      "metadata": {
        "id": "fObqfhYjH3h8",
        "colab_type": "code",
        "colab": {}
      },
      "source": [
        "#ppub.str.split(',|;|:')\n",
        "#sdf.loc[np.where(ppub.str.contains('London'))] # all columns with london; np.where gives index\n",
        "#ppub.str.cat(sdf.Title, sep= ':, ')\n",
        "#ppub.str.extract(r'(London)') #extract for regex"
      ],
      "execution_count": 0,
      "outputs": []
    },
    {
      "cell_type": "code",
      "metadata": {
        "id": "-rcwMtsnP7Pb",
        "colab_type": "code",
        "colab": {}
      },
      "source": [
        "tpub = sdf['Title']\n",
        "titledf = tpub.str.strip().str.split('[\\W_]+')\n",
        "rows = []\n",
        "for e,i in enumerate(titledf.tolist()):\n",
        "    rows.append(pd.Series(i).value_counts())\n",
        "    \n",
        "tpubp = tpub.str.replace('[^\\w\\s]', '').str.split(' ')\n",
        "tf = tpubp[1:3].apply(lambda x: pd.value_counts(x).to_frame()))"
      ],
      "execution_count": 0,
      "outputs": []
    },
    {
      "cell_type": "code",
      "metadata": {
        "id": "q81HZ5jxWJ2D",
        "colab_type": "code",
        "colab": {}
      },
      "source": [
        "def idf(word):\n",
        "    np.log(tpub.shape[0] / np.where(tpub.str.contains(word))[0].shape[0])\n",
        "\n",
        "tf.iloc[0].apply(lambda x: idf(x))\n",
        "\n"
      ],
      "execution_count": 0,
      "outputs": []
    },
    {
      "cell_type": "markdown",
      "metadata": {
        "id": "_Zf2tTDiWdo3",
        "colab_type": "text"
      },
      "source": [
        "# NUMPY"
      ]
    },
    {
      "cell_type": "code",
      "metadata": {
        "id": "-u-JEkjZWrTB",
        "colab_type": "code",
        "colab": {}
      },
      "source": [
        "import numpy as np\n",
        "\n",
        "np.arange(9).reshape(3,3)\n",
        "\n",
        "np.identity(3)\n",
        "\n",
        "np.linspace(-1, 1, 10)  #Gives linearly spcaed elements within a space\n",
        "\n",
        "Z = np.pad(Z, pad_width=1, mode='constant', constant_values=0)\n",
        "\n",
        "Z = Z - np.mean(Z) / np.std(Z)\n",
        "\n",
        "print(np.unravel_index(99,(6,7,8))) #100th element in a shape (6,7,8)\n",
        "\n",
        "print(0 * np.nan)\n",
        "print(np.nan == np.nan)\n",
        "print(np.inf > np.nan)\n",
        "print(np.nan - np.nan)\n",
        "print(np.nan in set([np.nan]))\n",
        "print(0.3 == 3 * 0.1)"
      ],
      "execution_count": 0,
      "outputs": []
    },
    {
      "cell_type": "markdown",
      "metadata": {
        "id": "SV2o3PjecM56",
        "colab_type": "text"
      },
      "source": [
        "### Custom dtype"
      ]
    },
    {
      "cell_type": "code",
      "metadata": {
        "id": "_JCsSClgcKjX",
        "colab_type": "code",
        "colab": {}
      },
      "source": [
        "color = np.dtype([(\"r\", np.ubyte, 1),\n",
        "                  (\"g\", np.ubyte, 1),\n",
        "                  (\"b\", np.ubyte, 1),\n",
        "                  (\"a\", np.ubyte, 1)])\n",
        "\n",
        "z = np.asarray([(1,2,3,4), (1,2,3,4)], dtype=color)\n",
        "\n",
        "Z = np.zeros(10, [ ('position', [ ('x', float, 1),\n",
        "                                  ('y', float, 1)]),\n",
        "                   ('color',    [ ('r', float, 1),\n",
        "                                  ('g', float, 1),\n",
        "                                  ('b', float, 1)])])"
      ],
      "execution_count": 0,
      "outputs": []
    },
    {
      "cell_type": "markdown",
      "metadata": {
        "id": "tG_BWdYwdXgE",
        "colab_type": "text"
      },
      "source": [
        "### Selecting column based on condition"
      ]
    },
    {
      "cell_type": "code",
      "metadata": {
        "id": "i8luylDjdW2m",
        "colab_type": "code",
        "colab": {}
      },
      "source": [
        "Z = np.arange(11)\n",
        "Z[(3 < Z) & (Z <= 8)] *= -1\n",
        "print(Z)"
      ],
      "execution_count": 0,
      "outputs": []
    },
    {
      "cell_type": "markdown",
      "metadata": {
        "id": "Y8Oii5d_fiWT",
        "colab_type": "text"
      },
      "source": [
        "### Common elements between two arrays"
      ]
    },
    {
      "cell_type": "code",
      "metadata": {
        "id": "eQ8M85-yddkR",
        "colab_type": "code",
        "colab": {}
      },
      "source": [
        "Z1 = np.random.randint(0,10,10)\n",
        "Z2 = np.random.randint(0,10,10)\n",
        "print(np.intersect1d(Z1,Z2))"
      ],
      "execution_count": 0,
      "outputs": []
    },
    {
      "cell_type": "markdown",
      "metadata": {
        "id": "v8iIBjjUAqqA",
        "colab_type": "text"
      },
      "source": [
        "### Array from generator"
      ]
    },
    {
      "cell_type": "code",
      "metadata": {
        "id": "Dr8SoRbtAsNL",
        "colab_type": "code",
        "colab": {}
      },
      "source": [
        "def gen():\n",
        "    for i in range(10):\n",
        "        yield i\n",
        "Z = np.fromiter(gen(), dtype=int)\n",
        "Z"
      ],
      "execution_count": 0,
      "outputs": []
    },
    {
      "cell_type": "markdown",
      "metadata": {
        "id": "UTnlOvoXEH9N",
        "colab_type": "text"
      },
      "source": [
        "### Checking if arrays are equal"
      ]
    },
    {
      "cell_type": "code",
      "metadata": {
        "id": "P2JC95IJAxuy",
        "colab_type": "code",
        "colab": {}
      },
      "source": [
        "A = np.random.randint(0,2,5)\n",
        "B = np.random.randint(0,2,5)\n",
        "\n",
        "# Assuming identical shape of the arrays and a tolerance for the comparison of values\n",
        "equal = np.allclose(A,B)\n",
        "print(equal)\n",
        "\n",
        "# Checking both the shape and the element values, no tolerance (values have to be exactly equal)\n",
        "equal = np.array_equal(A,B)\n",
        "print(equal)\n",
        "\n",
        "np.allclose(0.3, 0.1*3)"
      ],
      "execution_count": 0,
      "outputs": []
    },
    {
      "cell_type": "code",
      "metadata": {
        "id": "ZCM0h6omESzP",
        "colab_type": "code",
        "colab": {}
      },
      "source": [
        "# Make array read only\n",
        "Z.flags.writeable = False"
      ],
      "execution_count": 0,
      "outputs": []
    },
    {
      "cell_type": "markdown",
      "metadata": {
        "id": "Yd5CldC-KKoe",
        "colab_type": "text"
      },
      "source": [
        "### Sorting, max, min"
      ]
    },
    {
      "cell_type": "code",
      "metadata": {
        "id": "wXGC53HYFXFI",
        "colab_type": "code",
        "colab": {}
      },
      "source": [
        "# Maximum element in an array\n",
        "z = np.random.random(3)\n",
        "z[np.argmax(z)]"
      ],
      "execution_count": 0,
      "outputs": []
    },
    {
      "cell_type": "code",
      "metadata": {
        "id": "SgOircX8Gjbn",
        "colab_type": "code",
        "colab": {}
      },
      "source": [
        "# Sorting based on second column\n",
        "z = np.random.random((3,3))\n",
        "z[np.argsort(z[:,1])]"
      ],
      "execution_count": 0,
      "outputs": []
    },
    {
      "cell_type": "code",
      "metadata": {
        "id": "jmG1rJlqHhOy",
        "colab_type": "code",
        "colab": {}
      },
      "source": [
        "# Closest element to given element in the array\n",
        "v = 43.666\n",
        "z = np.arange(100)\n",
        "z[np.argmin(np.abs(z-v))]"
      ],
      "execution_count": 0,
      "outputs": []
    },
    {
      "cell_type": "markdown",
      "metadata": {
        "id": "9GEwiCoCPsg2",
        "colab_type": "text"
      },
      "source": [
        "### Enumerating an array"
      ]
    },
    {
      "cell_type": "code",
      "metadata": {
        "id": "TYp60y_KJk4J",
        "colab_type": "code",
        "colab": {}
      },
      "source": [
        "z = np.random.random((3,3))\n",
        "for index, value in np.ndenumerate(z):\n",
        "    print(index, value)"
      ],
      "execution_count": 0,
      "outputs": []
    },
    {
      "cell_type": "code",
      "metadata": {
        "id": "VrkW9JAlP518",
        "colab_type": "code",
        "colab": {}
      },
      "source": [
        "[i for i in z.flat]"
      ],
      "execution_count": 0,
      "outputs": []
    },
    {
      "cell_type": "markdown",
      "metadata": {
        "id": "hNp38XzbaFlT",
        "colab_type": "text"
      },
      "source": [
        "### Bincount"
      ]
    },
    {
      "cell_type": "code",
      "metadata": {
        "id": "GzmbfmtIVnSd",
        "colab_type": "code",
        "outputId": "d63f23f7-565d-44db-dca4-0b2a0c9281cc",
        "colab": {
          "base_uri": "https://localhost:8080/",
          "height": 34
        }
      },
      "source": [
        "np.bincount(np.array([1,1,1,3,3,5,5,5])) # Will give array of 6 elements (0-5) for each index calculating the count"
      ],
      "execution_count": 0,
      "outputs": [
        {
          "output_type": "execute_result",
          "data": {
            "text/plain": [
              "array([0, 3, 0, 2, 0, 3])"
            ]
          },
          "metadata": {
            "tags": []
          },
          "execution_count": 34
        }
      ]
    },
    {
      "cell_type": "markdown",
      "metadata": {
        "id": "eDKofXJWf87v",
        "colab_type": "text"
      },
      "source": [
        "### Repeat"
      ]
    },
    {
      "cell_type": "code",
      "metadata": {
        "id": "UrqJ0D7qaMnL",
        "colab_type": "code",
        "colab": {}
      },
      "source": [
        "C = np.bincount([1,1,2,3,4,4,6])\n",
        "A = np.repeat(np.arange(len(C)), C)  #Repeats each element in arange by element in C times\n",
        "print(A)"
      ],
      "execution_count": 0,
      "outputs": []
    }
  ]
}