{
  "nbformat": 4,
  "nbformat_minor": 0,
  "metadata": {
    "colab": {
      "name": "progprac.ipynb",
      "version": "0.3.2",
      "provenance": [],
      "collapsed_sections": [],
      "include_colab_link": true
    },
    "kernelspec": {
      "name": "python3",
      "display_name": "Python 3"
    }
  },
  "cells": [
    {
      "cell_type": "markdown",
      "metadata": {
        "id": "view-in-github",
        "colab_type": "text"
      },
      "source": [
        "<a href=\"https://colab.research.google.com/github/Shreyanand/programming-practice/blob/master/progprac.ipynb\" target=\"_parent\"><img src=\"https://colab.research.google.com/assets/colab-badge.svg\" alt=\"Open In Colab\"/></a>"
      ]
    },
    {
      "cell_type": "markdown",
      "metadata": {
        "id": "60ST0m_gLA__",
        "colab_type": "text"
      },
      "source": [
        "# Data Structures"
      ]
    },
    {
      "cell_type": "markdown",
      "metadata": {
        "id": "UtdPYCe4unMR",
        "colab_type": "text"
      },
      "source": [
        "## Stack and Queues"
      ]
    },
    {
      "cell_type": "code",
      "metadata": {
        "id": "2vmZrBf38h2x",
        "colab_type": "code",
        "outputId": "555f21d4-1707-44a4-ad03-6d5ce9019d63",
        "colab": {
          "base_uri": "https://localhost:8080/",
          "height": 119
        }
      },
      "source": [
        "# Using deque from collections\n",
        "# Use popleft and append methods\n",
        "# from collections import deque\n",
        "# queue = deque([1,5,8,9])\n",
        "# queue.append(0) #[1,5,8,9,7,0]\n",
        "# queue.popleft() #[8,7,9,0]\n",
        "# print(queue)\n",
        "\n",
        "class node():\n",
        "    def __init__(self, x=None):\n",
        "        self.value = x\n",
        "        self.next = None\n",
        "        #self.previous = None\n",
        "        \n",
        "        \n",
        "class queue():\n",
        "    def __init__(self):\n",
        "        self.head = None\n",
        "        self.tail = None\n",
        "        \n",
        "        \n",
        "    def enqueue(self, x):\n",
        "        n = node(x)\n",
        "        if self.tail:\n",
        "            self.tail.next = n\n",
        "        self.tail = n    \n",
        "        if self.head == None:\n",
        "            self.head = n\n",
        "        \n",
        "        \n",
        "    def dequeue(self):\n",
        "        x = self.head.value\n",
        "        self.head = self.head.next\n",
        "        return x\n",
        "    \n",
        "class stack():\n",
        "    \n",
        "    def __init__(self):\n",
        "        self.top = None\n",
        "        \n",
        "    def push(self, x):\n",
        "        n = node(x)\n",
        "        n.next = self.top\n",
        "        self.top = n\n",
        "        \n",
        "    def pop(self):\n",
        "        x = self.top.value\n",
        "        self.top = self.top.next\n",
        "        return x\n",
        "        \n",
        "a = [1,2,3]\n",
        "b = queue()\n",
        "\n",
        "for i in a: b.enqueue(i)\n",
        "\n",
        "c = b.head\n",
        "while (c):\n",
        "    print(c.value)\n",
        "    c = c.next\n",
        "    \n",
        "b.dequeue()\n",
        "\n",
        "\n",
        "s = stack()\n",
        "for i in a: s.push(i)\n",
        "    \n",
        "t = s.top\n",
        "while(t != None): \n",
        "    print(t.value)\n",
        "    t = t.next    "
      ],
      "execution_count": 0,
      "outputs": [
        {
          "output_type": "stream",
          "text": [
            "1\n",
            "2\n",
            "3\n",
            "3\n",
            "2\n",
            "1\n"
          ],
          "name": "stdout"
        }
      ]
    },
    {
      "cell_type": "markdown",
      "metadata": {
        "id": "PvGjL6TGLaia",
        "colab_type": "text"
      },
      "source": [
        "## BST"
      ]
    },
    {
      "cell_type": "code",
      "metadata": {
        "id": "l2txQj079hMH",
        "colab_type": "code",
        "colab": {}
      },
      "source": [
        "class tnode():\n",
        "    def __init__(self, x=None):\n",
        "        self.value = x\n",
        "        self.right = None\n",
        "        self.left = None\n",
        "        \n",
        "class BST():\n",
        "    def __init__(self, x=None):\n",
        "        self.root = None\n",
        "        \n",
        "    def insert(self, x):\n",
        "        n = tnode(x)\n",
        "        if self.root == None:\n",
        "            self.root = n\n",
        "            return\n",
        "            \n",
        "        i = self.root\n",
        "        c = i\n",
        "        while i:\n",
        "            c = i\n",
        "            if x < i.value:\n",
        "                i = i.left\n",
        "            elif x > i.value:\n",
        "                i = i.right\n",
        "                \n",
        "        if x > c.value:\n",
        "            c.right = n\n",
        "            \n",
        "        if x < c.value:\n",
        "            c.left = n  \n",
        "            \n",
        "    def insert_rec(self, root, x):\n",
        "        \n",
        "        if root == None:\n",
        "            self.root = tnode(x)   \n",
        "            return\n",
        "        \n",
        "        if x < root.value:\n",
        "            if root.left == None:\n",
        "                root.left = tnode(x)\n",
        "                return\n",
        "            else: self.insert_rec(root.left, x)\n",
        "        \n",
        "        if x > root.value:\n",
        "            if root.right == None:\n",
        "                root.right = tnode(x)\n",
        "                return\n",
        "            else: self.insert_rec(root.right, x)\n",
        "            \n",
        "        \n",
        "    def remove(self, x):\n",
        "        \n",
        "        def rightmostleaf(root):\n",
        "            r = root\n",
        "            rml = r\n",
        "            while (r):\n",
        "                rml = r\n",
        "                r = r.right\n",
        "            return rml\n",
        "                       \n",
        "        \n",
        "        ## Finding the element to be removed's parent\n",
        "        i = self.root\n",
        "        c = i\n",
        "        while (i != None and i.value != x):\n",
        "            c = i\n",
        "            if x < i.value:\n",
        "                i = i.left\n",
        "            elif x > i.value:\n",
        "                i = i.right\n",
        "                \n",
        "        if i == None: #Case where element doesnt exist\n",
        "            return \n",
        "        \n",
        "        elif i == self.root:\n",
        "            if i.left:\n",
        "                if i.right:\n",
        "                    rightmostleaf(i.left).right = i.right\n",
        "                self.root = i.left\n",
        "            else:\n",
        "                if i.right:\n",
        "                    self.root = i.right\n",
        "                else:\n",
        "                    self.root = None\n",
        "            return\n",
        "                    \n",
        "            \n",
        "        if c.right.value == x:\n",
        "            toremove = c.right  #if right subtree of parent, parent.left = \n",
        "            if tomremove.left:\n",
        "                c.right = toremove.left\n",
        "                leaf = rightmostleaf(toremove.left)\n",
        "                leaf.right = toremove.right\n",
        "            else:\n",
        "                c.right = toremove.right\n",
        "            \n",
        "        elif c.left.value == x:\n",
        "            toremove = c.left\n",
        "            if toremove.left:\n",
        "                c.left = toremove.left\n",
        "                leaf = rightmostleaf(toremove.left)\n",
        "                leaf.right = toremove.right\n",
        "            else:\n",
        "                c.left = toremove.right\n",
        "            \n",
        "        \n",
        "        \n",
        "    def print_lvl(self):\n",
        "        print(self.root.value)\n",
        "        q = queue()\n",
        "        q.enqueue(self.root)\n",
        "        while(q.head):\n",
        "            i = q.dequeue()\n",
        "            if i.left:\n",
        "                q.enqueue(i.left)\n",
        "                print(i.left.value)\n",
        "            if i.right:\n",
        "                q.enqueue(i.right)\n",
        "                print(i.right.value)\n",
        "        \n",
        "a = [2,1,5,3,6,0, 7]\n",
        "bst = BST()\n",
        "for i in a:\n",
        "    bst.insert_rec(bst.root, i)    \n",
        "bst.remove(2)     "
      ],
      "execution_count": 0,
      "outputs": []
    },
    {
      "cell_type": "markdown",
      "metadata": {
        "id": "kAdu44jJux2s",
        "colab_type": "text"
      },
      "source": [
        "# LEETCODE"
      ]
    },
    {
      "cell_type": "markdown",
      "metadata": {
        "id": "yEY7i63e1Imf",
        "colab_type": "text"
      },
      "source": [
        "### ADD TWO NUMBERS\n",
        "\n",
        "* This was my first solution\n",
        "* Accepted but make following changes\n",
        "* pt = ans = ListNode(-1)\n",
        "* Instead of l1 and l2 and then if l1, if l2\n",
        "* Do l1 or l2 and within that if l1; if l2\n",
        "* Add carry to same while: while l1 or l2 or carry"
      ]
    },
    {
      "cell_type": "code",
      "metadata": {
        "id": "RpW5pest02f9",
        "colab_type": "code",
        "colab": {}
      },
      "source": [
        "class Solution:\n",
        "    def addTwoNumbers(self, l1: ListNode, l2: ListNode) -> ListNode:\n",
        "        ans = ListNode(-1)\n",
        "        carry = False\n",
        "        pt = ans\n",
        "        while (l1 and l2):\n",
        "            print(l1.val, l2.val)\n",
        "            if carry:\n",
        "                toput = l1.val + l2.val + 1\n",
        "            else:\n",
        "                toput = l1.val + l2.val\n",
        "            if toput < 10:\n",
        "                pt.next = ListNode(toput)\n",
        "                pt = pt.next\n",
        "                carry = False\n",
        "            else:\n",
        "                pt.next = ListNode(toput - 10)\n",
        "                pt = pt.next\n",
        "                carry = True\n",
        "            l1 = l1.next\n",
        "            l2 = l2.next\n",
        "        if l1:\n",
        "            while (l1):\n",
        "                if carry:\n",
        "                    toput = l1.val + 1\n",
        "                    if toput < 10:\n",
        "                        pt.next = ListNode(toput)\n",
        "                        carry = False\n",
        "                    else:\n",
        "                        pt.next = ListNode(toput - 10)\n",
        "                        carry = True\n",
        "                else:\n",
        "                    pt.next = ListNode(l1.val)\n",
        "                pt = pt.next\n",
        "                l1 = l1.next\n",
        "        if l2:\n",
        "            while (l2):\n",
        "                if carry:\n",
        "                    toput = l2.val + 1\n",
        "                    if toput < 10:\n",
        "                        pt.next = ListNode(toput)\n",
        "                        carry = False\n",
        "                    else:\n",
        "                        pt.next = ListNode(toput - 10)\n",
        "                        carry = True\n",
        "                else:\n",
        "                    pt.next = ListNode(l2.val)\n",
        "                pt = pt.next\n",
        "                l2 = l2.next\n",
        "        if carry:\n",
        "            pt.next = ListNode(1)\n",
        "            pt = pt.next\n",
        "            \n",
        "        return(ans.next)\n",
        "                "
      ],
      "execution_count": 0,
      "outputs": []
    },
    {
      "cell_type": "markdown",
      "metadata": {
        "id": "XZm6KARiuf67",
        "colab_type": "text"
      },
      "source": [
        "## Flood Fill\n",
        "\n",
        "* Accepted but following changes\n",
        "* rlen, clen = len(image), len(image[0])\n",
        "* hash set for maintaining visited nodes\n",
        "* Use self defined stack instead of recursive solution\n",
        "* To prevent stack overflow\n",
        "\n"
      ]
    },
    {
      "cell_type": "code",
      "metadata": {
        "id": "deCIFAxRuiuM",
        "colab_type": "code",
        "colab": {}
      },
      "source": [
        "class Solution:\n",
        "    def floodFill(self, image: List[List[int]], sr: int, sc: int, newColor: int) -> List[List[int]]:\n",
        "        \n",
        "        def get_neighbors(cord):\n",
        "            rlen = len(image)\n",
        "            clen = len(image[0])\n",
        "            r, c = cord[0], cord[1]\n",
        "            neighbors = []\n",
        "            if r+1 < rlen:\n",
        "                neighbors.append((r+1, c))\n",
        "            if r-1 > -1:\n",
        "                neighbors.append((r-1, c))\n",
        "            if c+1 < clen:\n",
        "                neighbors.append((r, c+1))\n",
        "            if c-1 > - 1:\n",
        "                neighbors.append((r, c-1))\n",
        "            return neighbors\n",
        "\n",
        "        \n",
        "        stack = []\n",
        "        stack.append((sr, sc))\n",
        "        oldColor = image[sr][sc]\n",
        "        visited = set()\n",
        "        while stack:\n",
        "            cp = stack.pop()\n",
        "            sr, sc = cp[0], cp[1]\n",
        "            image[sr][sc] = newColor\n",
        "            visited.add(cp)\n",
        "            neighbors = get_neighbors(cp)\n",
        "            for i in neighbors:\n",
        "                if i not in visited:\n",
        "                    if image[i[0]][i[1]] == oldColor:\n",
        "                        stack.append(i)\n",
        "                    else:\n",
        "                        visited.add(i)                  \n",
        "        return image"
      ],
      "execution_count": 0,
      "outputs": []
    },
    {
      "cell_type": "markdown",
      "metadata": {
        "id": "MPRAwPp7OZ1P",
        "colab_type": "text"
      },
      "source": [
        "### Buy sell stocks 1,2\n",
        "* Can remove pointer and store only values for better space"
      ]
    },
    {
      "cell_type": "code",
      "metadata": {
        "id": "9ikbC-mbOVnF",
        "colab_type": "code",
        "colab": {}
      },
      "source": [
        "class Solution:\n",
        "    def maxProfit(self, prices: List[int]) -> int:\n",
        "        minptr = maxptr = 0\n",
        "        profmax = prof = 0\n",
        "        for e, i in enumerate(prices):\n",
        "            #print(e,i,prices[minptr],prices[maxptr])  # Whenever min changes, reset both min and max and store max profit\n",
        "            if i < prices[minptr]:\n",
        "                if prof > profmax:\n",
        "                    profmax = prof\n",
        "                minptr = e\n",
        "                maxptr = e\n",
        "            if i > prices[maxptr]:\n",
        "                maxptr = e\n",
        "                \n",
        "            prof = prices[maxptr] - prices[minptr]\n",
        "        \n",
        "        if prof > profmax:\n",
        "            profmax = prof\n",
        "        return profmax\n",
        "    \n",
        "class Solution:\n",
        "    def maxProfit(self, prices: List[int]) -> int:\n",
        "        minptr = maxptr = 0\n",
        "        profmax = prof = 0\n",
        "        for e, i in enumerate(prices):\n",
        "            #print(e,i,prices[minptr],prices[maxptr])  # Whenever min occurs after max, reset both min and max and add to profit\n",
        "            if i < prices[maxptr]:\n",
        "                profmax += prof\n",
        "                minptr = maxptr = e\n",
        "                prof = 0\n",
        "            if i > prices[maxptr]:\n",
        "                maxptr = e\n",
        "                prof = prices[maxptr] - prices[minptr]\n",
        "        \n",
        "        profmax += prof\n",
        "        return profmax\n",
        "        "
      ],
      "execution_count": 0,
      "outputs": []
    },
    {
      "cell_type": "markdown",
      "metadata": {
        "id": "aAAu_CqU4Fl2",
        "colab_type": "text"
      },
      "source": [
        "### Design Patterns\n",
        "\n",
        "\n",
        "\n",
        "1.   Singleton:  Only one object per class and all people use it: ex movie ticket, multiple websites\n",
        "2.   Composite: Dir -> Files, Dir; Playlist -> Songs, Playlists; so inside playlist class we have an attribute list in which we can add objects of class songs or playlist itself\n",
        "\n",
        "Interface package (method printcontent();) # In python no interface, class with function and raise  notimplemented error\n",
        "\n",
        "----- box: list [package]; add package to list (can be both box and item) printcontent();\n",
        "\n",
        "-----  item: attributes of item; printcontent();\n",
        "\n"
      ]
    },
    {
      "cell_type": "code",
      "metadata": {
        "id": "pXwv6Uh9S0S9",
        "colab_type": "code",
        "colab": {}
      },
      "source": [
        "# Traversals in trees\n",
        "# Hashing table, collisions"
      ],
      "execution_count": 0,
      "outputs": []
    },
    {
      "cell_type": "code",
      "metadata": {
        "id": "tIDMf52TlUWf",
        "colab_type": "code",
        "colab": {}
      },
      "source": [
        ""
      ],
      "execution_count": 0,
      "outputs": []
    }
  ]
}