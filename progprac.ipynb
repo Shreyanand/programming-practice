{
 "cells": [
  {
   "cell_type": "markdown",
   "metadata": {
    "colab_type": "text",
    "id": "view-in-github"
   },
   "source": [
    "<a href=\"https://colab.research.google.com/github/Shreyanand/programming-practice/blob/master/progprac.ipynb\" target=\"_parent\"><img src=\"https://colab.research.google.com/assets/colab-badge.svg\" alt=\"Open In Colab\"/></a>"
   ]
  },
  {
   "cell_type": "markdown",
   "metadata": {
    "colab_type": "text",
    "id": "60ST0m_gLA__"
   },
   "source": [
    "# Data Structures"
   ]
  },
  {
   "cell_type": "markdown",
   "metadata": {
    "colab_type": "text",
    "id": "UtdPYCe4unMR"
   },
   "source": [
    "## Stack and Queues"
   ]
  },
  {
   "cell_type": "code",
   "execution_count": null,
   "metadata": {
    "colab": {
     "base_uri": "https://localhost:8080/",
     "height": 119
    },
    "colab_type": "code",
    "id": "2vmZrBf38h2x",
    "outputId": "555f21d4-1707-44a4-ad03-6d5ce9019d63"
   },
   "outputs": [
    {
     "name": "stdout",
     "output_type": "stream",
     "text": [
      "1\n",
      "2\n",
      "3\n",
      "3\n",
      "2\n",
      "1\n"
     ]
    }
   ],
   "source": [
    "# Using deque from collections\n",
    "# Use popleft and append methods\n",
    "# from collections import deque\n",
    "# queue = deque([1,5,8,9])\n",
    "# queue.append(0) #[1,5,8,9,7,0]\n",
    "# queue.popleft() #[8,7,9,0]\n",
    "# print(queue)\n",
    "\n",
    "class node():\n",
    "    def __init__(self, x=None):\n",
    "        self.value = x\n",
    "        self.next = None\n",
    "        #self.previous = None\n",
    "        \n",
    "        \n",
    "class queue():\n",
    "    def __init__(self):\n",
    "        self.head = None\n",
    "        self.tail = None\n",
    "        \n",
    "        \n",
    "    def enqueue(self, x):\n",
    "        n = node(x)\n",
    "        if self.tail:\n",
    "            self.tail.next = n\n",
    "        self.tail = n    \n",
    "        if self.head == None:\n",
    "            self.head = n\n",
    "        \n",
    "        \n",
    "    def dequeue(self):\n",
    "        x = self.head.value\n",
    "        self.head = self.head.next\n",
    "        return x\n",
    "    \n",
    "class stack():\n",
    "    \n",
    "    def __init__(self):\n",
    "        self.top = None\n",
    "        \n",
    "    def push(self, x):\n",
    "        n = node(x)\n",
    "        n.next = self.top\n",
    "        self.top = n\n",
    "        \n",
    "    def pop(self):\n",
    "        x = self.top.value\n",
    "        self.top = self.top.next\n",
    "        return x\n",
    "        \n",
    "a = [1,2,3]\n",
    "b = queue()\n",
    "\n",
    "for i in a: b.enqueue(i)\n",
    "\n",
    "c = b.head\n",
    "while (c):\n",
    "    print(c.value)\n",
    "    c = c.next\n",
    "    \n",
    "b.dequeue()\n",
    "\n",
    "\n",
    "s = stack()\n",
    "for i in a: s.push(i)\n",
    "    \n",
    "t = s.top\n",
    "while(t != None): \n",
    "    print(t.value)\n",
    "    t = t.next    "
   ]
  },
  {
   "cell_type": "markdown",
   "metadata": {
    "colab_type": "text",
    "id": "PvGjL6TGLaia"
   },
   "source": [
    "## BST"
   ]
  },
  {
   "cell_type": "code",
   "execution_count": null,
   "metadata": {
    "colab": {},
    "colab_type": "code",
    "id": "l2txQj079hMH"
   },
   "outputs": [],
   "source": [
    "class tnode():\n",
    "    def __init__(self, x=None):\n",
    "        self.value = x\n",
    "        self.right = None\n",
    "        self.left = None\n",
    "        \n",
    "class BST():\n",
    "    def __init__(self, x=None):\n",
    "        self.root = None\n",
    "        \n",
    "    def insert(self, x):\n",
    "        n = tnode(x)\n",
    "        if self.root == None:\n",
    "            self.root = n\n",
    "            return\n",
    "            \n",
    "        i = self.root\n",
    "        c = i\n",
    "        while i:\n",
    "            c = i\n",
    "            if x < i.value:\n",
    "                i = i.left\n",
    "            elif x > i.value:\n",
    "                i = i.right\n",
    "                \n",
    "        if x > c.value:\n",
    "            c.right = n\n",
    "            \n",
    "        if x < c.value:\n",
    "            c.left = n  \n",
    "            \n",
    "    def insert_rec(self, root, x):\n",
    "        \n",
    "        if root == None:\n",
    "            self.root = tnode(x)   \n",
    "            return\n",
    "        \n",
    "        if x < root.value:\n",
    "            if root.left == None:\n",
    "                root.left = tnode(x)\n",
    "                return\n",
    "            else: self.insert_rec(root.left, x)\n",
    "        \n",
    "        if x > root.value:\n",
    "            if root.right == None:\n",
    "                root.right = tnode(x)\n",
    "                return\n",
    "            else: self.insert_rec(root.right, x)\n",
    "            \n",
    "        \n",
    "    def remove(self, x):\n",
    "        \n",
    "        def rightmostleaf(root):\n",
    "            r = root\n",
    "            rml = r\n",
    "            while (r):\n",
    "                rml = r\n",
    "                r = r.right\n",
    "            return rml\n",
    "                       \n",
    "        \n",
    "        ## Finding the element to be removed's parent\n",
    "        i = self.root\n",
    "        c = i\n",
    "        while (i != None and i.value != x):\n",
    "            c = i\n",
    "            if x < i.value:\n",
    "                i = i.left\n",
    "            elif x > i.value:\n",
    "                i = i.right\n",
    "                \n",
    "        if i == None: #Case where element doesnt exist\n",
    "            return \n",
    "        \n",
    "        elif i == self.root:\n",
    "            if i.left:\n",
    "                if i.right:\n",
    "                    rightmostleaf(i.left).right = i.right\n",
    "                self.root = i.left\n",
    "            else:\n",
    "                if i.right:\n",
    "                    self.root = i.right\n",
    "                else:\n",
    "                    self.root = None\n",
    "            return\n",
    "                    \n",
    "            \n",
    "        if c.right.value == x:\n",
    "            toremove = c.right  #if right subtree of parent, parent.left = \n",
    "            if tomremove.left:\n",
    "                c.right = toremove.left\n",
    "                leaf = rightmostleaf(toremove.left)\n",
    "                leaf.right = toremove.right\n",
    "            else:\n",
    "                c.right = toremove.right\n",
    "            \n",
    "        elif c.left.value == x:\n",
    "            toremove = c.left\n",
    "            if toremove.left:\n",
    "                c.left = toremove.left\n",
    "                leaf = rightmostleaf(toremove.left)\n",
    "                leaf.right = toremove.right\n",
    "            else:\n",
    "                c.left = toremove.right\n",
    "            \n",
    "        \n",
    "        \n",
    "    def print_lvl(self):\n",
    "        print(self.root.value)\n",
    "        q = queue()\n",
    "        q.enqueue(self.root)\n",
    "        while(q.head):\n",
    "            i = q.dequeue()\n",
    "            if i.left:\n",
    "                q.enqueue(i.left)\n",
    "                print(i.left.value)\n",
    "            if i.right:\n",
    "                q.enqueue(i.right)\n",
    "                print(i.right.value)\n",
    "        \n",
    "a = [2,1,5,3,6,0, 7]\n",
    "bst = BST()\n",
    "for i in a:\n",
    "    bst.insert_rec(bst.root, i)    \n",
    "bst.remove(2)     "
   ]
  },
  {
   "cell_type": "markdown",
   "metadata": {
    "colab_type": "text",
    "id": "kAdu44jJux2s"
   },
   "source": [
    "# LEETCODE"
   ]
  },
  {
   "cell_type": "markdown",
   "metadata": {
    "colab_type": "text",
    "id": "yEY7i63e1Imf"
   },
   "source": [
    "### ADD TWO NUMBERS\n",
    "\n",
    "* This was my first solution\n",
    "* Accepted but make following changes\n",
    "* pt = ans = ListNode(-1)\n",
    "* Instead of l1 and l2 and then if l1, if l2\n",
    "* Do l1 or l2 and within that if l1; if l2\n",
    "* Add carry to same while: while l1 or l2 or carry"
   ]
  },
  {
   "cell_type": "code",
   "execution_count": null,
   "metadata": {
    "colab": {},
    "colab_type": "code",
    "id": "RpW5pest02f9"
   },
   "outputs": [],
   "source": [
    "class Solution:\n",
    "    def addTwoNumbers(self, l1: ListNode, l2: ListNode) -> ListNode:\n",
    "        ans = ListNode(-1)\n",
    "        carry = False\n",
    "        pt = ans\n",
    "        while (l1 and l2):\n",
    "            print(l1.val, l2.val)\n",
    "            if carry:\n",
    "                toput = l1.val + l2.val + 1\n",
    "            else:\n",
    "                toput = l1.val + l2.val\n",
    "            if toput < 10:\n",
    "                pt.next = ListNode(toput)\n",
    "                pt = pt.next\n",
    "                carry = False\n",
    "            else:\n",
    "                pt.next = ListNode(toput - 10)\n",
    "                pt = pt.next\n",
    "                carry = True\n",
    "            l1 = l1.next\n",
    "            l2 = l2.next\n",
    "        if l1:\n",
    "            while (l1):\n",
    "                if carry:\n",
    "                    toput = l1.val + 1\n",
    "                    if toput < 10:\n",
    "                        pt.next = ListNode(toput)\n",
    "                        carry = False\n",
    "                    else:\n",
    "                        pt.next = ListNode(toput - 10)\n",
    "                        carry = True\n",
    "                else:\n",
    "                    pt.next = ListNode(l1.val)\n",
    "                pt = pt.next\n",
    "                l1 = l1.next\n",
    "        if l2:\n",
    "            while (l2):\n",
    "                if carry:\n",
    "                    toput = l2.val + 1\n",
    "                    if toput < 10:\n",
    "                        pt.next = ListNode(toput)\n",
    "                        carry = False\n",
    "                    else:\n",
    "                        pt.next = ListNode(toput - 10)\n",
    "                        carry = True\n",
    "                else:\n",
    "                    pt.next = ListNode(l2.val)\n",
    "                pt = pt.next\n",
    "                l2 = l2.next\n",
    "        if carry:\n",
    "            pt.next = ListNode(1)\n",
    "            pt = pt.next\n",
    "            \n",
    "        return(ans.next)\n",
    "                "
   ]
  },
  {
   "cell_type": "markdown",
   "metadata": {
    "colab_type": "text",
    "id": "XZm6KARiuf67"
   },
   "source": [
    "## Flood Fill\n",
    "\n",
    "* Accepted but following changes\n",
    "* rlen, clen = len(image), len(image[0])\n",
    "* hash set for maintaining visited nodes\n",
    "* Use self defined stack instead of recursive solution\n",
    "* To prevent stack overflow\n",
    "\n"
   ]
  },
  {
   "cell_type": "code",
   "execution_count": null,
   "metadata": {
    "colab": {},
    "colab_type": "code",
    "id": "deCIFAxRuiuM"
   },
   "outputs": [],
   "source": [
    "class Solution:\n",
    "    def floodFill(self, image: List[List[int]], sr: int, sc: int, newColor: int) -> List[List[int]]:\n",
    "        \n",
    "        def get_neighbors(cord):\n",
    "            rlen = len(image)\n",
    "            clen = len(image[0])\n",
    "            r, c = cord[0], cord[1]\n",
    "            neighbors = []\n",
    "            if r+1 < rlen:\n",
    "                neighbors.append((r+1, c))\n",
    "            if r-1 > -1:\n",
    "                neighbors.append((r-1, c))\n",
    "            if c+1 < clen:\n",
    "                neighbors.append((r, c+1))\n",
    "            if c-1 > - 1:\n",
    "                neighbors.append((r, c-1))\n",
    "            return neighbors\n",
    "\n",
    "        \n",
    "        stack = []\n",
    "        stack.append((sr, sc))\n",
    "        oldColor = image[sr][sc]\n",
    "        visited = set()\n",
    "        while stack:\n",
    "            cp = stack.pop()\n",
    "            sr, sc = cp[0], cp[1]\n",
    "            image[sr][sc] = newColor\n",
    "            visited.add(cp)\n",
    "            neighbors = get_neighbors(cp)\n",
    "            for i in neighbors:\n",
    "                if i not in visited:\n",
    "                    if image[i[0]][i[1]] == oldColor:\n",
    "                        stack.append(i)\n",
    "                    else:\n",
    "                        visited.add(i)                  \n",
    "        return image"
   ]
  },
  {
   "cell_type": "markdown",
   "metadata": {
    "colab_type": "text",
    "id": "MPRAwPp7OZ1P"
   },
   "source": [
    "### Buy sell stocks 1,2\n",
    "* Can remove pointer and store only values for better space"
   ]
  },
  {
   "cell_type": "code",
   "execution_count": null,
   "metadata": {
    "colab": {},
    "colab_type": "code",
    "id": "9ikbC-mbOVnF"
   },
   "outputs": [],
   "source": [
    "class Solution:\n",
    "    def maxProfit(self, prices: List[int]) -> int:\n",
    "        minptr = maxptr = 0\n",
    "        profmax = prof = 0\n",
    "        for e, i in enumerate(prices):\n",
    "            #print(e,i,prices[minptr],prices[maxptr])  # Whenever min changes, reset both min and max and store max profit\n",
    "            if i < prices[minptr]:\n",
    "                if prof > profmax:\n",
    "                    profmax = prof\n",
    "                minptr = e\n",
    "                maxptr = e\n",
    "            if i > prices[maxptr]:\n",
    "                maxptr = e\n",
    "                \n",
    "            prof = prices[maxptr] - prices[minptr]\n",
    "        \n",
    "        if prof > profmax:\n",
    "            profmax = prof\n",
    "        return profmax\n",
    "    \n",
    "class Solution:\n",
    "    def maxProfit(self, prices: List[int]) -> int:\n",
    "        minptr = maxptr = 0\n",
    "        profmax = prof = 0\n",
    "        for e, i in enumerate(prices):\n",
    "            #print(e,i,prices[minptr],prices[maxptr])  # Whenever min occurs after max, reset both min and max and add to profit\n",
    "            if i < prices[maxptr]:\n",
    "                profmax += prof\n",
    "                minptr = maxptr = e\n",
    "                prof = 0\n",
    "            if i > prices[maxptr]:\n",
    "                maxptr = e\n",
    "                prof = prices[maxptr] - prices[minptr]\n",
    "        \n",
    "        profmax += prof\n",
    "        return profmax\n",
    "        "
   ]
  },
  {
   "cell_type": "markdown",
   "metadata": {
    "colab_type": "text",
    "id": "LXf1xET2kpat"
   },
   "source": [
    "Buy Sell stocks K transaction: dynamic programming\n",
    "\n",
    "* Leetcode k=2 is 3rd problem\n",
    "\n",
    "* We have to make a table profit_matrix;  dimensions: days * k + 1\n",
    "\n",
    "* initialize first row as 0\n",
    "\n",
    "* k = 1; second row; corresponds to max profit on that day for 1 transaction\n",
    "\n",
    "* k = 2: At any day we select from \n",
    "    * do nothing on that day (select profit from previous day)\n",
    "    * Loop from 0 to that day; adding one transaction's profit to previous k's profit (best 1 day profit + new transaction)\n",
    "    * Optimization here maxdiff\n",
    "\n",
    "* https://www.youtube.com/watch?v=oDhu5uGq_ic"
   ]
  },
  {
   "cell_type": "code",
   "execution_count": null,
   "metadata": {
    "colab": {},
    "colab_type": "code",
    "id": "TBz0Rs8bkgyg"
   },
   "outputs": [],
   "source": [
    "def maxProfit(self, k: int, prices: List[int]) -> int:\n",
    "    if len(prices) == 0:\n",
    "        return 0\n",
    "    if k >= len(prices) // 2:  #Final optimization\n",
    "        return sum(\n",
    "            x - y\n",
    "            for x, y in zip(prices[1:], prices[:-1])\n",
    "            if x > y)\n",
    "    profit_matrix = [[0 for i in range(len(prices))] for j in range(k+1)]\n",
    "    for num in range(1, k+1):\n",
    "        maxdiff = -10000\n",
    "        for i in range(1, len(prices)):\n",
    "            maxdiff = max(maxdiff, profit_matrix[num-1][i-1] - prices[i-1])\n",
    "            profit_matrix[num][i] = max(prices[i] + maxdiff, profit_matrix[num][i-1])\n",
    "    #print(profit_matrix)\n",
    "    return(profit_matrix[k][-1])"
   ]
  },
  {
   "cell_type": "markdown",
   "metadata": {
    "colab_type": "text",
    "id": "K9YN_zTk2eJx"
   },
   "source": [
    "## Recursion\n",
    "[Checkout](https://www.byte-by-byte.com/recursion/)\n",
    "\n",
    "### Problems to do\n",
    "* Iteration: Reverse LL, Merge Sorted LL\n",
    "* Subproblem: Tower of hanoi, [Climbing Stairs: Fibonacci](https://leetcode.com/problems/climbing-stairs/)\n",
    "* Selection: 01 Knapsack; all combinations of input\n",
    "* Ordering: Permuations; sum as target\n",
    "* Divide and Conquer: Binary search, Merge sort\n",
    "* DFS: \n",
    "\n",
    "### Complexity of Recursion\n",
    "* Numbers of calls * work per call\n",
    "* Branching factor (b) ^ depth of tree * work per call\n",
    "* b is 2 in fibonaaci f(n-1), f(n-2)\n",
    "* Space: O(depth_of_recursion * space_per_recursive_call)\n",
    "\n",
    "* Problems to do: 01 Knapsack\n",
    "* Tower of hanoi; word break\n"
   ]
  },
  {
   "cell_type": "markdown",
   "metadata": {
    "colab_type": "text",
    "id": "ftZimb2LFimA"
   },
   "source": [
    "### Climbing Stairs: Fibonacci"
   ]
  },
  {
   "cell_type": "code",
   "execution_count": null,
   "metadata": {
    "colab": {},
    "colab_type": "code",
    "id": "-uLa5d2KFZU-"
   },
   "outputs": [],
   "source": [
    "class Solution:\n",
    "    def climbStairs(self, n: int) -> int:\n",
    "        a = {} #This here means we are using DP\n",
    "        def fibonacci(n):\n",
    "            if n==1: return 1\n",
    "            if n==2: return 2            \n",
    "            if (n-1) in a:\n",
    "                s1 = a[n-1]\n",
    "            else:\n",
    "                s1 = fibonacci(n-1)\n",
    "                a[n-1] = s1\n",
    "                \n",
    "            if (n-2) in a:\n",
    "                s2 = a[n-2]\n",
    "            else:\n",
    "                s2 = fibonacci(n-2)\n",
    "                a[n-2] = s2                \n",
    "            return  (s1 + s2)\n",
    "        return fibonacci(n)"
   ]
  },
  {
   "cell_type": "markdown",
   "metadata": {
    "colab_type": "text",
    "id": "lcJRHbJ-LDOV"
   },
   "source": [
    "### Rod cutting: Integer break leetcode"
   ]
  },
  {
   "cell_type": "code",
   "execution_count": null,
   "metadata": {
    "colab": {},
    "colab_type": "code",
    "id": "M6P7pbhXLLAy"
   },
   "outputs": [],
   "source": [
    "class Solution:\n",
    "    def integerBreak(self, n: int) -> int:\n",
    "        maxproducts = {}\n",
    "        if n==1 or n==2: return 1\n",
    "        if n==3: return 2\n",
    "        def rec(n):\n",
    "            if n<4: return n\n",
    "            maxp = 0\n",
    "            for i in range(1, n//2 + 1):\n",
    "                f1, f2 = i, n - i\n",
    "                if f1 in maxproducts:\n",
    "                    p1 = maxproducts[f1] \n",
    "                else:\n",
    "                    p1 = rec(f1)\n",
    "                    maxproducts[f1] = p1\n",
    "\n",
    "                if f2 in maxproducts:\n",
    "                    p2 = maxproducts[f2]\n",
    "                else:\n",
    "                    p2 = rec(f2)\n",
    "                    maxproducts[f2] = p2                   \n",
    "                maxp = max(maxp, p1*p2)                  \n",
    "            return maxp\n",
    "        ans = rec(n)\n",
    "        return ans"
   ]
  },
  {
   "cell_type": "markdown",
   "metadata": {
    "colab_type": "text",
    "id": "Z2WGxlQpSg0S"
   },
   "source": [
    "### Merge Two Sorted Lists\n",
    "* The recursion part is hard to think\n",
    "* The trick is to keep returning the list nodes bottom up\n",
    "* In the base case, we return the tail of the list \n",
    "* As we start packing up the recursion, we add the tail to the list (l1.next = tail from the stack below)\n",
    "* Then we return the new list to the stack above\n",
    "    * Analogy: You are standing in the middle of a building; the boss at top calls for a box from the bottom floor. First the message goes from boss through you to the bottom (recursive call part). Then from the bottom the workers lift (computation part) and send the box up through you. This is the return part of the function.\n",
    "* Look at the recursion stack in the image\n",
    "\n",
    "[Recursion Stack](https://drive.google.com/open?id=10mySlejhFcDDQwotthine9a7sbd1n8j8)\n",
    "\n",
    "### Reverse a Linked Lists\n",
    "* Same recursion concept\n",
    "* This time I add head instead of tail\n"
   ]
  },
  {
   "cell_type": "code",
   "execution_count": null,
   "metadata": {
    "colab": {},
    "colab_type": "code",
    "id": "fN8WWoeuTjv6"
   },
   "outputs": [],
   "source": [
    "class Solution:\n",
    "    ## Iterative \n",
    "    def mergeTwoLists(self, l1: ListNode, l2: ListNode) -> ListNode:\n",
    "        slist = ListNode(0)\n",
    "        head = slist\n",
    "        while(l1 or l2):\n",
    "            if not l1:\n",
    "                slist.next = l2\n",
    "                break\n",
    "            if not l2:\n",
    "                slist.next = l1\n",
    "                break\n",
    "            if l1.val <= l2.val:\n",
    "                slist.next = l1\n",
    "                l1 = l1.next\n",
    "                slist = slist.next               \n",
    "            else:\n",
    "                slist.next = l2\n",
    "                l2 = l2.next\n",
    "                slist = slist.next\n",
    "        return(head.next)\n",
    "    ## Recursive\n",
    "    def mergeTwoLists(self, l1: ListNode, l2: ListNode) -> ListNode:\n",
    "        if not l1: return l2\n",
    "        if not l2: return l1\n",
    "        if l1.val <= l2.val:\n",
    "            l1.next = self.mergeTwoLists(l1.next, l2)\n",
    "            return l1\n",
    "        else:\n",
    "            l2.next = self.mergeTwoLists(l1, l2.next)\n",
    "            return l2\n",
    "\n",
    "\n",
    "\n",
    "## First try at recursion\n",
    "#         if not l1 or not l2: \n",
    "#             self.slist.next = l1 or l2\n",
    "#             return self.slist\n",
    "#         else:\n",
    "#             if l1.val <= l2.val:\n",
    "#                 self.slist.next = self.mergeTwoLists(l1.next, l2)\n",
    "#                 return self.slist\n",
    "#             else:\n",
    "#                 self.slist.next = self.mergeTwoLists(l1, l2.next)\n",
    "#                 return self.slist\n",
    "\n",
    "\n",
    "####### Reverse a linked list\n",
    "class Solution:\n",
    "    def reverseList(self, head: ListNode) -> ListNode:\n",
    "        ## Recursive\n",
    "        dummy = ListNode(0)\n",
    "        def rec(head):\n",
    "            if not head: return dummy\n",
    "            bt = rec(head.next)\n",
    "            bt.next = ListNode(head.val)\n",
    "            return bt.next\n",
    "        rec(head)\n",
    "        return dummy.next\n",
    "        \n",
    "        ## Iterative Space is O(n)\n",
    "        if not head: return \n",
    "        ptr = ListNode(head.val)\n",
    "        head = head.next\n",
    "        while(head):\n",
    "            nnode = ListNode(head.val)\n",
    "            nnode.next = ptr\n",
    "            ptr = nnode\n",
    "            head = head.next\n",
    "        return ptr\n",
    "    \n",
    "        ## Iterative Space is O(1)\n",
    "        if not head: return \n",
    "        prev = None\n",
    "        #nextt = head\n",
    "        while(head):\n",
    "            nxt = head.next\n",
    "            head.next = prev\n",
    "            prev = head\n",
    "            head = nxt\n",
    "        return prev"
   ]
  },
  {
   "cell_type": "markdown",
   "metadata": {
    "colab_type": "text",
    "id": "ZJRHpWQ3Xzat"
   },
   "source": [
    "### Count and say"
   ]
  },
  {
   "cell_type": "code",
   "execution_count": null,
   "metadata": {
    "colab": {},
    "colab_type": "code",
    "id": "OkY1CZNhX1Nr"
   },
   "outputs": [],
   "source": [
    "class Solution:                      \n",
    "    def countAndSay(self, n: int) -> str:\n",
    "        def freqcnt(x):\n",
    "            ans_str = ''\n",
    "            s = str(x)\n",
    "            count = 1\n",
    "            i = 1\n",
    "            while i < len(s):\n",
    "                if s[i-1] == s[i]:\n",
    "                    count +=1\n",
    "                else:\n",
    "                    ans_str += str(count) + s[i-1]\n",
    "                    count=1\n",
    "                i += 1\n",
    "            ans_str += str(count) + s[-1]\n",
    "            return(ans_str)\n",
    "        \n",
    "        if n==1: \n",
    "            return (\"1\")\n",
    "        else: \n",
    "            x = self.countAndSay(n-1)\n",
    "            return(freqcnt(x))"
   ]
  },
  {
   "cell_type": "markdown",
   "metadata": {
    "colab_type": "text",
    "id": "iawnhnkyKcFk"
   },
   "source": [
    "## TREES"
   ]
  },
  {
   "cell_type": "markdown",
   "metadata": {
    "colab_type": "text",
    "id": "P5woV3bSKgAb"
   },
   "source": [
    "### Symmetric Tree\n",
    "\n",
    "* Look at the first two if statements. The first one checks if both are null.\n",
    "* If so, then rerun loop\n",
    "* The second loop checks if either one of them is null\n",
    "* If so, then return false cuz tree is no longer symmetric\n",
    "* The logic here is to pop twice. And while adding to queue reversing it so that while popping we can compare popped elements.\n",
    "* In recursion, we again switch and call and there are two parameters in the function."
   ]
  },
  {
   "cell_type": "code",
   "execution_count": null,
   "metadata": {
    "colab": {},
    "colab_type": "code",
    "id": "9zHJ4Z3xK6L_"
   },
   "outputs": [],
   "source": [
    "from collections import deque\n",
    "class Solution:\n",
    "    def isSymmetric(self, root: TreeNode) -> bool:\n",
    "        q = deque([root, root])\n",
    "        while(q):\n",
    "            t1 = q.popleft()\n",
    "            t2 = q.popleft()\n",
    "            if not t1 and not t2: continue\n",
    "            if not t1 or not t2: return False\n",
    "            if t1.val != t2.val: return False\n",
    "            q.append(t1.left)\n",
    "            q.append(t2.right)\n",
    "            q.append(t1.right)\n",
    "            q.append(t2.left)\n",
    "        return True\n",
    "    \n",
    "#             def rec(t1, t2):\n",
    "#             if not t1 and not t2: return True\n",
    "#             if not t1 or not t2: return False\n",
    "#             return t1.val == t2.val and rec(t1.left, t2.right) and rec(t1.right, t2.left)             \n",
    "#         return(rec(root, root))"
   ]
  },
  {
   "cell_type": "markdown",
   "metadata": {
    "colab_type": "text",
    "id": "isIza4fMZlXu"
   },
   "source": [
    "### Level Order Traversal\n",
    "* The difficult part is to remember the level\n",
    "* The trick is that at the time while loop starts there are only that many elements in the queue as there are in the level hence the for loop\n",
    "* Earlier I tried to do 2**level elements in each level but it may be a chain."
   ]
  },
  {
   "cell_type": "code",
   "execution_count": null,
   "metadata": {
    "colab": {},
    "colab_type": "code",
    "id": "D_8yeWBJZpUF"
   },
   "outputs": [],
   "source": [
    "from collections import deque\n",
    "class Solution:\n",
    "    def levelOrder(self, root: TreeNode) -> List[List[int]]:\n",
    "        if not root: return []\n",
    "        lo = deque([root])\n",
    "        a = []\n",
    "        while(lo):\n",
    "            temp = []\n",
    "            l = len(lo)\n",
    "            for _ in range(l):\n",
    "                e = lo.popleft()\n",
    "                if e.left:\n",
    "                    lo.append(e.left)\n",
    "                if e.right:\n",
    "                    lo.append(e.right)\n",
    "                temp.append(e.val)\n",
    "            a.append(temp)       \n",
    "        return a"
   ]
  },
  {
   "cell_type": "markdown",
   "metadata": {
    "colab_type": "text",
    "id": "RSfuLKDWQp5x"
   },
   "source": []
  },
  {
   "cell_type": "markdown",
   "metadata": {
    "colab_type": "text",
    "id": "aOrr-uJYQoV4"
   },
   "source": [
    "### Creating Binary tree from preoeder and postorder traversal\n",
    "* Get root from preorder\n",
    "* Get left and right subtree from inorder\n",
    "* root's left and right call same func on left subtree and right subtree\n",
    "* Enhance:\n",
    "* Instead of finding lst and rst in preorder, we can just pop root everytime\n",
    "* When preorder list is passed for root.left it will pop all the left roots before reaching root.right\n",
    "* When it will reach root.right, preorder's first element will be the right subtree's root."
   ]
  },
  {
   "cell_type": "code",
   "execution_count": null,
   "metadata": {
    "colab": {},
    "colab_type": "code",
    "id": "mHkJP6J3QpFp"
   },
   "outputs": [],
   "source": [
    "class Solution:\n",
    "    def buildTree(self, preorder: List[int], inorder: List[int]) -> TreeNode:\n",
    "#         if not preorder: return None\n",
    "#         if len(preorder) == 1: return TreeNode(preorder[0])\n",
    "#         root = TreeNode(preorder[0])\n",
    "#         ilst = []\n",
    "#         irst = []\n",
    "#         r = False\n",
    "#         for i in inorder:\n",
    "#             if i == root.val:\n",
    "#                 r = True\n",
    "#             elif r:\n",
    "#                 irst.append(i)\n",
    "#             else:\n",
    "#                 ilst.append(i)\n",
    "        \n",
    "#         plst, prst = [], []\n",
    "#         l = len(ilst)\n",
    "\n",
    "#         for i in preorder[1:]:\n",
    "#             if l > 0:\n",
    "#                 plst.append(i)\n",
    "#                 l -= 1\n",
    "#             else:\n",
    "#                 prst.append(i)\n",
    "        \n",
    "#         root.left = self.buildTree(plst, ilst)\n",
    "#         root.right = self.buildTree(prst, irst)\n",
    "        \n",
    "#         #print(ilst,irst,plst,prst)\n",
    "#         return root\n",
    "        if not inorder: return \n",
    "        root = TreeNode(preorder.pop(0))\n",
    "        ilst = []\n",
    "        irst = []\n",
    "        r = False\n",
    "        for i in inorder:\n",
    "            if i == root.val:\n",
    "                r = True\n",
    "            elif r:\n",
    "                irst.append(i)\n",
    "            else:\n",
    "                ilst.append(i)    \n",
    "        root.left = self.buildTree(preorder, ilst)\n",
    "        root.right = self.buildTree(preorder, irst)        \n",
    "        #print(ilst,irst,plst,prst)\n",
    "        return root"
   ]
  },
  {
   "cell_type": "markdown",
   "metadata": {
    "colab_type": "text",
    "id": "G4VzVUlBX7-J"
   },
   "source": [
    "## Bitwise Operations \n",
    "\n",
    "a = 0011 1100: 60; b = 0000 1101: 13\n",
    "\n",
    "*  Binary Left Shift: a << 2 = 1111 0000 : 240\n",
    "*  Binary Right Shift: a >> 2 = 0000 1111 : 15\n",
    "* &, |, ^: and, or, xor\n",
    "\n",
    "\n",
    "\n"
   ]
  },
  {
   "cell_type": "markdown",
   "metadata": {
    "colab_type": "text",
    "id": "aAAu_CqU4Fl2"
   },
   "source": [
    "### Design Patterns\n",
    "\n",
    "\n",
    "\n",
    "1.   Singleton:  Only one object per class and all people use it: ex movie ticket, multiple websites\n",
    "2.   Composite: Dir -> Files, Dir; Playlist -> Songs, Playlists; so inside playlist class we have an attribute list in which we can add objects of class songs or playlist itself\n",
    "\n",
    "Interface package (method printcontent();) # In python no interface, class with function and raise  notimplemented error\n",
    "\n",
    "----- box: list [package]; add package to list (can be both box and item) printcontent();\n",
    "\n",
    "-----  item: attributes of item; printcontent();\n",
    "\n"
   ]
  },
  {
   "cell_type": "markdown",
   "metadata": {
    "colab_type": "text",
    "id": "HZzAJGuXMNxf"
   },
   "source": [
    "### Coding points\n",
    "\n",
    "* Implement Binary Search\n",
    "Quick Sort\n",
    "Recursion and DP\n",
    "Linked lists; Trees: Binary Search Trees; Heaps; Tries; Vectors; Stacks Queue ; Bit Manipulation\n",
    "\n",
    "* ### Python Scope and Classes\n",
    "Given a list of values remove first occurrence, .remove\n",
    "Given a string remove first occurrence of char: .replace(“c”,””,1)\n",
    "\n",
    "* ### Referencing:\n",
    "    * Copy array: a=b just gives reference. Change a, b will change as well. A = b[:] for a copy. Or a.copy() in 3.3. The reason for this is that let’s say we construct a linked list a, and a.next gives next element. Suppose I want to populate with pt =a and say pt.next = x. At the end pt will point to last pointer but a will point to first.\n",
    "    * Never Use [lst] * N for making an array. It just refers the same list again and again. When change a value from a list, it will change all the lists.\n",
    "\n",
    "* sorted() when a new list, sort() when inplace\n",
    "a.sort() is equivalent to a = sorted(a)\n",
    "\n",
    "* Given an array, the binary tree children of each element of the array at index I is given by 2*I + 1 for left and 2*I + 2 for right. The tree is formed by filling it left to right top to bottom by elements of the array [0 to n]\n",
    "\n",
    "* Swap x , y = y , x  (doesn't work with rows of matrix)\n",
    "\n",
    "* Pdb.set_trace()\n",
    "\n",
    "* ### Zip: \n",
    "iterable: tuples of two iterates\n",
    "x= [1,2,3], y=[a,b] zip(x,y) = (1,a) (2,b)\n",
    "So you can use this when two lists are present instead of keeping track of the index\n",
    "\n",
    "* ### Python practices:\n",
    "    * Make module functions when there are no class attributes, otherwise go with class\n",
    "\n",
    "* Map, Filter, Lambda: Map for using same function on the all items of an iterable (or multiple iterables). Filter is for filtering according to a function on AN iterable. Lambda is a small anonymous function that can be used with both Map and filter\n",
    "\n",
    "* Product, permutation, combination, frequency counter in itertools\n",
    "\n",
    "* https://stupidpythonideas.blogspot.com/2013/11/does-python-pass-by-value-or-by.html\n",
    "\n",
    "* Default value of an argument in a function is mutable. So if you do def foo(x=[]): return x + [1] and if you call foo twice, then the second time, you'll get [1, 1] instead of [1].\n",
    "\n",
    "## Cohesion and Coupling\n",
    "* High cohesion: autonomy of a single component; does only a particular type of work\n",
    "* Loose Coupling: Relationship between different models is loose. Low dependence on each other\n",
    "* These are desired for robust orthogonal systems\n",
    "* If else to classes\n",
    "* [Example](https://www.jasoncoffin.com/cohesion-and-coupling-principles-of-orthogonal-object-oriented-programming/)\n",
    "\n",
    "\n"
   ]
  },
  {
   "cell_type": "markdown",
   "metadata": {
    "colab_type": "text",
    "id": "7hZ27g5ONReY"
   },
   "source": [
    "### Git Workflow\n",
    "\n",
    "* Generally people don’t change their master and work on a new branch (wd) and push that to origin. So in effect the master locally is synced with master of upstream from which your remote is forked (upstream). Your current branch (wd) is synced with your remote wd (forked from OR). So you push your local wd to your remote wd and then create a pull request for OR from remote wd. If the pull request is accepted you have to pull from the OR to your local master. Now your local master and wd should be synced.\n",
    "\n",
    "* Case 1: Local master synced with upstream master. Upstream has 2 new commits. Do git fetch and git base in master branch so that local master synced to upstream master.\n",
    "Now, assume wd is ahead of master by 5 commits. From synced master, git checkout wd; git fetch, git rebase. This will put my 5 commits above the 2 upstream commits. Merge conflict if there is same lines in my 5 commits and upstream 2 commits.\n",
    "If we had done git pull instead of git fetch and git base then sometimes more conflicts are possible because *maybe* it puts commits by history and not my over upstream’s.\n",
    "Now continue working on the code and create a pull request.\n",
    "\n",
    "\n",
    "* Merge Commit is different form normal commit. Only normal commits can be rebased. If you try to rebase mc then it will take underlying normal commit\n",
    "\n",
    "* Rebase are of two types squash and rearranging history."
   ]
  },
  {
   "cell_type": "code",
   "execution_count": null,
   "metadata": {
    "colab": {},
    "colab_type": "code",
    "id": "pXwv6Uh9S0S9"
   },
   "outputs": [],
   "source": [
    "# Traversals in trees\n",
    "# Hashing table, collisions"
   ]
  },
  {
   "cell_type": "code",
   "execution_count": null,
   "metadata": {
    "colab": {},
    "colab_type": "code",
    "id": "tIDMf52TlUWf"
   },
   "outputs": [],
   "source": []
  }
 ],
 "metadata": {
  "colab": {
   "collapsed_sections": [],
   "include_colab_link": true,
   "name": "progprac.ipynb",
   "provenance": [],
   "version": "0.3.2"
  },
  "kernelspec": {
   "display_name": "Python 3",
   "language": "python",
   "name": "python3"
  },
  "language_info": {
   "codemirror_mode": {
    "name": "ipython",
    "version": 3
   },
   "file_extension": ".py",
   "mimetype": "text/x-python",
   "name": "python",
   "nbconvert_exporter": "python",
   "pygments_lexer": "ipython3",
   "version": "3.6.8"
  }
 },
 "nbformat": 4,
 "nbformat_minor": 2
}
